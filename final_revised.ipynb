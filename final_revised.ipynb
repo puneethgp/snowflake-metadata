{
 "cells": [
  {
   "cell_type": "code",
   "execution_count": 1,
   "id": "87919055",
   "metadata": {},
   "outputs": [],
   "source": [
    "import os\n",
    "import glob\n",
    "import csv\n",
    "import pandas as pd\n",
    "import shutil\n",
    "import snowflake.connector\n",
    "import configparser\n",
    "import fnmatch\n",
    "from configparser import ConfigParser\n",
    "import os"
   ]
  },
  {
   "cell_type": "code",
   "execution_count": 5,
   "id": "d972ecd6",
   "metadata": {},
   "outputs": [],
   "source": [
    "\n",
    "\n",
    "\n",
    "class Metaframework:\n",
    "    \n",
    "    def __init__(self,path,stage = 'internal'):\n",
    "        self.path = path\n",
    "        self.stage = stage\n",
    "        parser = ConfigParser()\n",
    "        parser.read(f'{self.path}/SNOWFLAKE_CREDS.cfg')\n",
    "        account = parser.get('my_api','account')\n",
    "        user = parser.get('my_api','user')\n",
    "        password = parser.get('my_api','password')\n",
    "        database = parser.get('my_api','database')\n",
    "        schema = parser.get('my_api','schema')\n",
    "        role = parser.get('my_api','role')\n",
    "        warehouse = parser.get('my_api','warehouse')\n",
    "       \n",
    "        conn = snowflake.connector.connect( user = user ,password = password,account = account ,warehouse = warehouse ,\n",
    "                                           database = database,schema = schema,role = role)\n",
    "        self.curs = conn.cursor()\n",
    "        \n",
    "        self.curs.execute(f'CREATE STAGE IF NOT EXISTS {self.stage};')\n",
    "        print(f'{self.stage} has been created')\n",
    "        \n",
    "        \n",
    "    def create_table(self,target_table,file_path,delimiter=',',replace=False):\n",
    "        file_format = f\"CREATE OR REPLACE FILE FORMAT my_csv_format TYPE = 'CSV' FIELD_DELIMITER = '{delimiter}'  PARSE_HEADER = TRUE;\"\n",
    "        self.curs.execute(file_format)\n",
    "        statement = ' OR REPLACE TABLE' if replace else \"TABLE IF NOT EXISTS \"\n",
    "        query = f\"\"\"\n",
    "                    CREATE {statement} {target_table}\n",
    "                    USING TEMPLATE (\n",
    "                           SELECT ARRAY_AGG(OBJECT_CONSTRUCT(*))\n",
    "                           WITHIN GROUP (ORDER BY ORDER_ID)\n",
    "                           FROM TABLE(\n",
    "                               INFER_SCHEMA(\n",
    "                                     LOCATION=>'{file_path}',\n",
    "                                     FILE_FORMAT=>'my_csv_format')));\n",
    "                \"\"\"\n",
    "        print(query)\n",
    "        self.curs.execute(query)\n",
    "        print(f'\\n{target_table.upper()} has been created\\n')\n",
    "        \n",
    "        \n",
    "    def ingest_csv_file(self, csv_file_path, table_name, skip_header = 1, field_delimiter = ',', target_operation = 'append', *args):\n",
    "         \n",
    "         # Put file to stage \n",
    "        import os\n",
    "        full_path = os.path.join(self.path,csv_file_path) \n",
    "        put_file = f\"PUT 'file://{os.path.join(self.path,csv_file_path)}'' @{os.path.join(self.stage,csv_file_path)} AUTO_COMPRESS = FALSE OVERWRITE = TRUE\"\n",
    "        \n",
    "        #creating table with path and delimiter from metadata\n",
    "        self.create_table(table_name,stage_path,delimiter=field_delimiter)\n",
    "        \n",
    "        # append or overwrite\n",
    "        if target_operation.casefold() == 'overwrite':\n",
    "            print(f\"{table_name.upper()} is truncated\")\n",
    "            truncate_query = f\"TRUNCATE TABLE {table_name.upper()}\"  \n",
    "            curs.execute(truncate_query)\n",
    "        \n",
    "        \n",
    "        # Copy CSV file data into Snowflake table\n",
    "        copy_query = f\"\"\"\n",
    "                            COPY INTO {table_name.upper()} \n",
    "                            FROM '@{database}.{schema}.{stage_path}'\n",
    "                            FILE_FORMAT = (\n",
    "                                    TYPE = CSV   \n",
    "                                    SKIP_HEADER = {skip_header}\n",
    "                                    FIELD_DELIMITER = '{field_delimiter}')\n",
    "                            on_error = continue;\"\"\"\n",
    "        print(copy_query)\n",
    "        self.curs.execute(copy_query)\n",
    "\n",
    "        \n",
    "    def main(self):\n",
    "        csv_file_path = 'inbound/'\n",
    "        archive_folder = 'archive/'\n",
    "        missing_folder = 'missing/'\n",
    "        failed = 'failed/'\n",
    "\n",
    "        df = pd.read_csv('mapping/metadata1.csv',header = 0)\n",
    "\n",
    "        for file in os.listdir(self.csv_file_path):\n",
    "            matching = False\n",
    "            for ind in df.index:\n",
    "                if fnmatch.fnmatch(file, df['src_file_prefix'][ind]+'*.csv'):\n",
    "                    if df['is_active'][ind] == 'Y':\n",
    "                        delim = ','\n",
    "                        if df['src_file_delim'][ind] != ',':\n",
    "                            delim = df['src_file_delim'][ind]\n",
    "                        ingest_csv_file(stage,self.csv_file_path+file,df['tgt_table'][ind],field_delimiter = delim)\n",
    "        #                 print(f\"ingest_csv_file({stage},{csv_file_path+file},{df['tgt_table'][ind]})\")\n",
    "                        shutil.move(csv_file_path+file,'archive/')\n",
    "\n",
    "                    else:\n",
    "                        print(f'Skipping CSV file {file} for table {df[\"tgt_table\"][ind]} due to inactive flag.')\n",
    "                        # Move the skipped file to the missing mapping folder\n",
    "                        shutil.move(csv_file_path + file, failed)\n",
    "                        print(f'CSV file \"{file}\" moved to missing mapping folder \"{failed}\".')\n",
    "                    matching = True\n",
    "                    break\n",
    "            if not matching:\n",
    "                    print(f'\\n No file name pattern found for CSV file \"{file}\" . Skipping the file.\\n')\n",
    "                    shutil.move(csv_file_path + file, missing_folder)\n",
    "                    print(f'\\nCSV file \"{file}\" moved to missing mapping folder {missing_folder}\".\\n')"
   ]
  },
  {
   "cell_type": "markdown",
   "id": "fd056be6",
   "metadata": {},
   "source": [
    "a = Metaframework('D:\\snowpark')"
   ]
  },
  {
   "cell_type": "markdown",
   "id": "3276967a",
   "metadata": {},
   "source": [
    "a.put_file('inbound/data_85.csv')"
   ]
  },
  {
   "cell_type": "markdown",
   "id": "cb083142",
   "metadata": {},
   "source": [
    "a.create_table('TARGET_1','@internal/inbound/data_85.csv')"
   ]
  },
  {
   "cell_type": "code",
   "execution_count": 6,
   "id": "0d25561c",
   "metadata": {},
   "outputs": [],
   "source": [
    "a = Metaframework('D:\\snowpark','internal_4')\n",
    "#  csv_file_path, table_name, skip_header = 1, field_delimiter = ',', target_operation = 'append', *args):\n"
   ]
  },
  {
   "cell_type": "code",
   "execution_count": 54,
   "id": "3615d90a",
   "metadata": {},
   "outputs": [
    {
     "ename": "ProgrammingError",
     "evalue": "253006: File doesn't exist: ['inbounddata_85.csv']",
     "output_type": "error",
     "traceback": [
      "\u001b[1;31m---------------------------------------------------------------------------\u001b[0m",
      "\u001b[1;31mProgrammingError\u001b[0m                          Traceback (most recent call last)",
      "Cell \u001b[1;32mIn[54], line 1\u001b[0m\n\u001b[1;32m----> 1\u001b[0m \u001b[43ma\u001b[49m\u001b[38;5;241;43m.\u001b[39;49m\u001b[43mingest_csv_file\u001b[49m\u001b[43m(\u001b[49m\u001b[38;5;124;43m'\u001b[39;49m\u001b[38;5;124;43minbound\u001b[39;49m\u001b[38;5;124;43m\\\u001b[39;49m\u001b[38;5;124;43mdata_85.csv\u001b[39;49m\u001b[38;5;124;43m'\u001b[39;49m\u001b[43m,\u001b[49m\u001b[38;5;124;43m'\u001b[39;49m\u001b[38;5;124;43mtarget_table_7\u001b[39;49m\u001b[38;5;124;43m'\u001b[39;49m\u001b[43m)\u001b[49m\n",
      "Cell \u001b[1;32mIn[52], line 65\u001b[0m, in \u001b[0;36mMetaframework.ingest_csv_file\u001b[1;34m(self, csv_file_path, table_name, skip_header, field_delimiter, target_operation, *args)\u001b[0m\n\u001b[0;32m     63\u001b[0m \u001b[38;5;28;01mdef\u001b[39;00m \u001b[38;5;21mingest_csv_file\u001b[39m(\u001b[38;5;28mself\u001b[39m, csv_file_path, table_name, skip_header \u001b[38;5;241m=\u001b[39m \u001b[38;5;241m1\u001b[39m, field_delimiter \u001b[38;5;241m=\u001b[39m \u001b[38;5;124m'\u001b[39m\u001b[38;5;124m,\u001b[39m\u001b[38;5;124m'\u001b[39m, target_operation \u001b[38;5;241m=\u001b[39m \u001b[38;5;124m'\u001b[39m\u001b[38;5;124mappend\u001b[39m\u001b[38;5;124m'\u001b[39m, \u001b[38;5;241m*\u001b[39margs):\n\u001b[1;32m---> 65\u001b[0m     stage_path \u001b[38;5;241m=\u001b[39m \u001b[38;5;28;43mself\u001b[39;49m\u001b[38;5;241;43m.\u001b[39;49m\u001b[43mput_file\u001b[49m\u001b[43m(\u001b[49m\u001b[43mpath\u001b[49m\u001b[43m \u001b[49m\u001b[38;5;241;43m=\u001b[39;49m\u001b[43m \u001b[49m\u001b[43mcsv_file_path\u001b[49m\u001b[43m)\u001b[49m\n\u001b[0;32m     67\u001b[0m     \u001b[38;5;28mself\u001b[39m\u001b[38;5;241m.\u001b[39mcreate_table(table_name,stage_path,delimiter\u001b[38;5;241m=\u001b[39mfield_delimiter)\n\u001b[0;32m     69\u001b[0m     \u001b[38;5;66;03m# append or overwrite\u001b[39;00m\n",
      "Cell \u001b[1;32mIn[52], line 57\u001b[0m, in \u001b[0;36mMetaframework.put_file\u001b[1;34m(self, path)\u001b[0m\n\u001b[0;32m     55\u001b[0m \u001b[38;5;28;01mdef\u001b[39;00m \u001b[38;5;21mput_file\u001b[39m(\u001b[38;5;28mself\u001b[39m,path):\n\u001b[0;32m     56\u001b[0m     path_to_stage \u001b[38;5;241m=\u001b[39m \u001b[38;5;124m\"\u001b[39m\u001b[38;5;124m/\u001b[39m\u001b[38;5;124m\"\u001b[39m\u001b[38;5;241m.\u001b[39mjoin(path\u001b[38;5;241m.\u001b[39msplit(\u001b[38;5;124m'\u001b[39m\u001b[38;5;130;01m\\\\\u001b[39;00m\u001b[38;5;124m'\u001b[39m)[:\u001b[38;5;241m-\u001b[39m\u001b[38;5;241m1\u001b[39m])\n\u001b[1;32m---> 57\u001b[0m     \u001b[38;5;28;43mself\u001b[39;49m\u001b[38;5;241;43m.\u001b[39;49m\u001b[43mcurs\u001b[49m\u001b[38;5;241;43m.\u001b[39;49m\u001b[43mexecute\u001b[49m\u001b[43m(\u001b[49m\u001b[38;5;124;43mf\u001b[39;49m\u001b[38;5;124;43m\"\u001b[39;49m\u001b[38;5;124;43mPUT    \u001b[39;49m\u001b[38;5;124;43m'\u001b[39;49m\u001b[38;5;124;43mfile://\u001b[39;49m\u001b[38;5;132;43;01m{\u001b[39;49;00m\u001b[43mpath\u001b[49m\u001b[38;5;132;43;01m}\u001b[39;49;00m\u001b[38;5;124;43m'\u001b[39;49m\u001b[38;5;124;43m   \u001b[39;49m\u001b[38;5;124;43m'\u001b[39;49m\u001b[38;5;124;43m@\u001b[39;49m\u001b[38;5;132;43;01m{\u001b[39;49;00m\u001b[38;5;28;43mself\u001b[39;49m\u001b[38;5;241;43m.\u001b[39;49m\u001b[43mstage\u001b[49m\u001b[38;5;132;43;01m}\u001b[39;49;00m\u001b[38;5;124;43m/\u001b[39;49m\u001b[38;5;132;43;01m{\u001b[39;49;00m\u001b[43mpath_to_stage\u001b[49m\u001b[38;5;132;43;01m}\u001b[39;49;00m\u001b[38;5;124;43m'\u001b[39;49m\u001b[38;5;124;43m AUTO_COMPRESS=FALSE OVERWRITE = TRUE\u001b[39;49m\u001b[38;5;124;43m\"\u001b[39;49m\u001b[43m)\u001b[49m\n\u001b[0;32m     58\u001b[0m     \u001b[38;5;28mprint\u001b[39m(\u001b[38;5;124mf\u001b[39m\u001b[38;5;124m\"\u001b[39m\u001b[38;5;124mPUT    \u001b[39m\u001b[38;5;124m'\u001b[39m\u001b[38;5;124mfile://\u001b[39m\u001b[38;5;132;01m{\u001b[39;00mpath\u001b[38;5;132;01m}\u001b[39;00m\u001b[38;5;124m'\u001b[39m\u001b[38;5;124m   \u001b[39m\u001b[38;5;124m'\u001b[39m\u001b[38;5;124m@\u001b[39m\u001b[38;5;132;01m{\u001b[39;00m\u001b[38;5;28mself\u001b[39m\u001b[38;5;241m.\u001b[39mstage\u001b[38;5;132;01m}\u001b[39;00m\u001b[38;5;124m/\u001b[39m\u001b[38;5;132;01m{\u001b[39;00mpath_to_stage\u001b[38;5;132;01m}\u001b[39;00m\u001b[38;5;124m'\u001b[39m\u001b[38;5;124m AUTO_COMPRESS=FALSE OVERWRITE = TRUE\u001b[39m\u001b[38;5;124m\"\u001b[39m)\n\u001b[0;32m     59\u001b[0m     stage_path \u001b[38;5;241m=\u001b[39m \u001b[38;5;124m'\u001b[39m\u001b[38;5;124m@\u001b[39m\u001b[38;5;124m'\u001b[39m\u001b[38;5;241m+\u001b[39m\u001b[38;5;28mself\u001b[39m\u001b[38;5;241m.\u001b[39mstage \u001b[38;5;241m+\u001b[39m \u001b[38;5;124m'\u001b[39m\u001b[38;5;124m/\u001b[39m\u001b[38;5;124m'\u001b[39m \u001b[38;5;241m+\u001b[39m path\n",
      "File \u001b[1;32m~\\.conda\\envs\\py38_env\\lib\\site-packages\\snowflake\\connector\\cursor.py:765\u001b[0m, in \u001b[0;36mSnowflakeCursor.execute\u001b[1;34m(self, command, params, _bind_stage, timeout, _exec_async, _no_retry, _do_reset, _put_callback, _put_azure_callback, _put_callback_output_stream, _get_callback, _get_azure_callback, _get_callback_output_stream, _show_progress_bar, _statement_params, _is_internal, _describe_only, _no_results, _is_put_get, _raise_put_get_error, _force_put_overwrite, file_stream)\u001b[0m\n\u001b[0;32m    745\u001b[0m \u001b[38;5;28;01mif\u001b[39;00m \u001b[38;5;28mself\u001b[39m\u001b[38;5;241m.\u001b[39mis_file_transfer:\n\u001b[0;32m    746\u001b[0m     \u001b[38;5;66;03m# Decide whether to use the old, or new code path\u001b[39;00m\n\u001b[0;32m    747\u001b[0m     sf_file_transfer_agent \u001b[38;5;241m=\u001b[39m SnowflakeFileTransferAgent(\n\u001b[0;32m    748\u001b[0m         \u001b[38;5;28mself\u001b[39m,\n\u001b[0;32m    749\u001b[0m         query,\n\u001b[1;32m   (...)\u001b[0m\n\u001b[0;32m    763\u001b[0m         use_s3_regional_url\u001b[38;5;241m=\u001b[39m\u001b[38;5;28mself\u001b[39m\u001b[38;5;241m.\u001b[39m_connection\u001b[38;5;241m.\u001b[39menable_stage_s3_privatelink_for_us_east_1,\n\u001b[0;32m    764\u001b[0m     )\n\u001b[1;32m--> 765\u001b[0m     \u001b[43msf_file_transfer_agent\u001b[49m\u001b[38;5;241;43m.\u001b[39;49m\u001b[43mexecute\u001b[49m\u001b[43m(\u001b[49m\u001b[43m)\u001b[49m\n\u001b[0;32m    766\u001b[0m     data \u001b[38;5;241m=\u001b[39m sf_file_transfer_agent\u001b[38;5;241m.\u001b[39mresult()\n\u001b[0;32m    767\u001b[0m     \u001b[38;5;28mself\u001b[39m\u001b[38;5;241m.\u001b[39m_total_rowcount \u001b[38;5;241m=\u001b[39m \u001b[38;5;28mlen\u001b[39m(data[\u001b[38;5;124m\"\u001b[39m\u001b[38;5;124mrowset\u001b[39m\u001b[38;5;124m\"\u001b[39m]) \u001b[38;5;28;01mif\u001b[39;00m \u001b[38;5;124m\"\u001b[39m\u001b[38;5;124mrowset\u001b[39m\u001b[38;5;124m\"\u001b[39m \u001b[38;5;129;01min\u001b[39;00m data \u001b[38;5;28;01melse\u001b[39;00m \u001b[38;5;241m-\u001b[39m\u001b[38;5;241m1\u001b[39m\n",
      "File \u001b[1;32m~\\.conda\\envs\\py38_env\\lib\\site-packages\\snowflake\\connector\\file_transfer_agent.py:359\u001b[0m, in \u001b[0;36mSnowflakeFileTransferAgent.execute\u001b[1;34m(self)\u001b[0m\n\u001b[0;32m    357\u001b[0m \u001b[38;5;28;01mdef\u001b[39;00m \u001b[38;5;21mexecute\u001b[39m(\u001b[38;5;28mself\u001b[39m) \u001b[38;5;241m-\u001b[39m\u001b[38;5;241m>\u001b[39m \u001b[38;5;28;01mNone\u001b[39;00m:\n\u001b[0;32m    358\u001b[0m     \u001b[38;5;28mself\u001b[39m\u001b[38;5;241m.\u001b[39m_parse_command()\n\u001b[1;32m--> 359\u001b[0m     \u001b[38;5;28;43mself\u001b[39;49m\u001b[38;5;241;43m.\u001b[39;49m\u001b[43m_init_file_metadata\u001b[49m\u001b[43m(\u001b[49m\u001b[43m)\u001b[49m\n\u001b[0;32m    361\u001b[0m     \u001b[38;5;28;01mif\u001b[39;00m \u001b[38;5;28mself\u001b[39m\u001b[38;5;241m.\u001b[39m_command_type \u001b[38;5;241m==\u001b[39m CMD_TYPE_UPLOAD:\n\u001b[0;32m    362\u001b[0m         \u001b[38;5;28mself\u001b[39m\u001b[38;5;241m.\u001b[39m_process_file_compression_type()\n",
      "File \u001b[1;32m~\\.conda\\envs\\py38_env\\lib\\site-packages\\snowflake\\connector\\file_transfer_agent.py:958\u001b[0m, in \u001b[0;36mSnowflakeFileTransferAgent._init_file_metadata\u001b[1;34m(self)\u001b[0m\n\u001b[0;32m    952\u001b[0m \u001b[38;5;28;01mif\u001b[39;00m \u001b[38;5;129;01mnot\u001b[39;00m \u001b[38;5;28mself\u001b[39m\u001b[38;5;241m.\u001b[39m_src_files:\n\u001b[0;32m    953\u001b[0m     file_name \u001b[38;5;241m=\u001b[39m (\n\u001b[0;32m    954\u001b[0m         \u001b[38;5;28mself\u001b[39m\u001b[38;5;241m.\u001b[39m_ret[\u001b[38;5;124m\"\u001b[39m\u001b[38;5;124mdata\u001b[39m\u001b[38;5;124m\"\u001b[39m][\u001b[38;5;124m\"\u001b[39m\u001b[38;5;124msrc_locations\u001b[39m\u001b[38;5;124m\"\u001b[39m]\n\u001b[0;32m    955\u001b[0m         \u001b[38;5;28;01mif\u001b[39;00m \u001b[38;5;124m\"\u001b[39m\u001b[38;5;124mdata\u001b[39m\u001b[38;5;124m\"\u001b[39m \u001b[38;5;129;01min\u001b[39;00m \u001b[38;5;28mself\u001b[39m\u001b[38;5;241m.\u001b[39m_ret \u001b[38;5;129;01mand\u001b[39;00m \u001b[38;5;124m\"\u001b[39m\u001b[38;5;124msrc_locations\u001b[39m\u001b[38;5;124m\"\u001b[39m \u001b[38;5;129;01min\u001b[39;00m \u001b[38;5;28mself\u001b[39m\u001b[38;5;241m.\u001b[39m_ret[\u001b[38;5;124m\"\u001b[39m\u001b[38;5;124mdata\u001b[39m\u001b[38;5;124m\"\u001b[39m]\n\u001b[0;32m    956\u001b[0m         \u001b[38;5;28;01melse\u001b[39;00m \u001b[38;5;124m\"\u001b[39m\u001b[38;5;124mNone\u001b[39m\u001b[38;5;124m\"\u001b[39m\n\u001b[0;32m    957\u001b[0m     )\n\u001b[1;32m--> 958\u001b[0m     \u001b[43mError\u001b[49m\u001b[38;5;241;43m.\u001b[39;49m\u001b[43merrorhandler_wrapper\u001b[49m\u001b[43m(\u001b[49m\n\u001b[0;32m    959\u001b[0m \u001b[43m        \u001b[49m\u001b[38;5;28;43mself\u001b[39;49m\u001b[38;5;241;43m.\u001b[39;49m\u001b[43m_cursor\u001b[49m\u001b[38;5;241;43m.\u001b[39;49m\u001b[43mconnection\u001b[49m\u001b[43m,\u001b[49m\n\u001b[0;32m    960\u001b[0m \u001b[43m        \u001b[49m\u001b[38;5;28;43mself\u001b[39;49m\u001b[38;5;241;43m.\u001b[39;49m\u001b[43m_cursor\u001b[49m\u001b[43m,\u001b[49m\n\u001b[0;32m    961\u001b[0m \u001b[43m        \u001b[49m\u001b[43mProgrammingError\u001b[49m\u001b[43m,\u001b[49m\n\u001b[0;32m    962\u001b[0m \u001b[43m        \u001b[49m\u001b[43m{\u001b[49m\n\u001b[0;32m    963\u001b[0m \u001b[43m            \u001b[49m\u001b[38;5;124;43m\"\u001b[39;49m\u001b[38;5;124;43mmsg\u001b[39;49m\u001b[38;5;124;43m\"\u001b[39;49m\u001b[43m:\u001b[49m\u001b[43m \u001b[49m\u001b[38;5;124;43mf\u001b[39;49m\u001b[38;5;124;43m\"\u001b[39;49m\u001b[38;5;124;43mFile doesn\u001b[39;49m\u001b[38;5;124;43m'\u001b[39;49m\u001b[38;5;124;43mt exist: \u001b[39;49m\u001b[38;5;132;43;01m{\u001b[39;49;00m\u001b[43mfile_name\u001b[49m\u001b[38;5;132;43;01m}\u001b[39;49;00m\u001b[38;5;124;43m\"\u001b[39;49m\u001b[43m,\u001b[49m\n\u001b[0;32m    964\u001b[0m \u001b[43m            \u001b[49m\u001b[38;5;124;43m\"\u001b[39;49m\u001b[38;5;124;43merrno\u001b[39;49m\u001b[38;5;124;43m\"\u001b[39;49m\u001b[43m:\u001b[49m\u001b[43m \u001b[49m\u001b[43mER_FILE_NOT_EXISTS\u001b[49m\u001b[43m,\u001b[49m\n\u001b[0;32m    965\u001b[0m \u001b[43m        \u001b[49m\u001b[43m}\u001b[49m\u001b[43m,\u001b[49m\n\u001b[0;32m    966\u001b[0m \u001b[43m    \u001b[49m\u001b[43m)\u001b[49m\n\u001b[0;32m    967\u001b[0m \u001b[38;5;28;01mif\u001b[39;00m \u001b[38;5;28mself\u001b[39m\u001b[38;5;241m.\u001b[39m_source_from_stream:\n\u001b[0;32m    968\u001b[0m     \u001b[38;5;28mself\u001b[39m\u001b[38;5;241m.\u001b[39m_file_metadata\u001b[38;5;241m.\u001b[39mappend(\n\u001b[0;32m    969\u001b[0m         SnowflakeFileMeta(\n\u001b[0;32m    970\u001b[0m             name\u001b[38;5;241m=\u001b[39mos\u001b[38;5;241m.\u001b[39mpath\u001b[38;5;241m.\u001b[39mbasename(\u001b[38;5;28mself\u001b[39m\u001b[38;5;241m.\u001b[39m_src_files[\u001b[38;5;241m0\u001b[39m]),\n\u001b[1;32m   (...)\u001b[0m\n\u001b[0;32m    978\u001b[0m         )\n\u001b[0;32m    979\u001b[0m     )\n",
      "File \u001b[1;32m~\\.conda\\envs\\py38_env\\lib\\site-packages\\snowflake\\connector\\errors.py:276\u001b[0m, in \u001b[0;36mError.errorhandler_wrapper\u001b[1;34m(connection, cursor, error_class, error_value)\u001b[0m\n\u001b[0;32m    253\u001b[0m \u001b[38;5;129m@staticmethod\u001b[39m\n\u001b[0;32m    254\u001b[0m \u001b[38;5;28;01mdef\u001b[39;00m \u001b[38;5;21merrorhandler_wrapper\u001b[39m(\n\u001b[0;32m    255\u001b[0m     connection: SnowflakeConnection \u001b[38;5;241m|\u001b[39m \u001b[38;5;28;01mNone\u001b[39;00m,\n\u001b[1;32m   (...)\u001b[0m\n\u001b[0;32m    258\u001b[0m     error_value: \u001b[38;5;28mdict\u001b[39m[\u001b[38;5;28mstr\u001b[39m, \u001b[38;5;28mstr\u001b[39m \u001b[38;5;241m|\u001b[39m \u001b[38;5;28mbool\u001b[39m \u001b[38;5;241m|\u001b[39m \u001b[38;5;28mint\u001b[39m],\n\u001b[0;32m    259\u001b[0m ) \u001b[38;5;241m-\u001b[39m\u001b[38;5;241m>\u001b[39m \u001b[38;5;28;01mNone\u001b[39;00m:\n\u001b[0;32m    260\u001b[0m \u001b[38;5;250m    \u001b[39m\u001b[38;5;124;03m\"\"\"Error handler wrapper that calls the errorhandler method.\u001b[39;00m\n\u001b[0;32m    261\u001b[0m \n\u001b[0;32m    262\u001b[0m \u001b[38;5;124;03m    Args:\u001b[39;00m\n\u001b[1;32m   (...)\u001b[0m\n\u001b[0;32m    273\u001b[0m \u001b[38;5;124;03m        exception to the first handler in that order.\u001b[39;00m\n\u001b[0;32m    274\u001b[0m \u001b[38;5;124;03m    \"\"\"\u001b[39;00m\n\u001b[1;32m--> 276\u001b[0m     handed_over \u001b[38;5;241m=\u001b[39m \u001b[43mError\u001b[49m\u001b[38;5;241;43m.\u001b[39;49m\u001b[43mhand_to_other_handler\u001b[49m\u001b[43m(\u001b[49m\n\u001b[0;32m    277\u001b[0m \u001b[43m        \u001b[49m\u001b[43mconnection\u001b[49m\u001b[43m,\u001b[49m\n\u001b[0;32m    278\u001b[0m \u001b[43m        \u001b[49m\u001b[43mcursor\u001b[49m\u001b[43m,\u001b[49m\n\u001b[0;32m    279\u001b[0m \u001b[43m        \u001b[49m\u001b[43merror_class\u001b[49m\u001b[43m,\u001b[49m\n\u001b[0;32m    280\u001b[0m \u001b[43m        \u001b[49m\u001b[43merror_value\u001b[49m\u001b[43m,\u001b[49m\n\u001b[0;32m    281\u001b[0m \u001b[43m    \u001b[49m\u001b[43m)\u001b[49m\n\u001b[0;32m    282\u001b[0m     \u001b[38;5;28;01mif\u001b[39;00m \u001b[38;5;129;01mnot\u001b[39;00m handed_over:\n\u001b[0;32m    283\u001b[0m         \u001b[38;5;28;01mraise\u001b[39;00m Error\u001b[38;5;241m.\u001b[39merrorhandler_make_exception(\n\u001b[0;32m    284\u001b[0m             error_class,\n\u001b[0;32m    285\u001b[0m             error_value,\n\u001b[0;32m    286\u001b[0m         )\n",
      "File \u001b[1;32m~\\.conda\\envs\\py38_env\\lib\\site-packages\\snowflake\\connector\\errors.py:331\u001b[0m, in \u001b[0;36mError.hand_to_other_handler\u001b[1;34m(connection, cursor, error_class, error_value)\u001b[0m\n\u001b[0;32m    329\u001b[0m \u001b[38;5;28;01mif\u001b[39;00m cursor \u001b[38;5;129;01mis\u001b[39;00m \u001b[38;5;129;01mnot\u001b[39;00m \u001b[38;5;28;01mNone\u001b[39;00m:\n\u001b[0;32m    330\u001b[0m     cursor\u001b[38;5;241m.\u001b[39mmessages\u001b[38;5;241m.\u001b[39mappend((error_class, error_value))\n\u001b[1;32m--> 331\u001b[0m     \u001b[43mcursor\u001b[49m\u001b[38;5;241;43m.\u001b[39;49m\u001b[43merrorhandler\u001b[49m\u001b[43m(\u001b[49m\u001b[43mconnection\u001b[49m\u001b[43m,\u001b[49m\u001b[43m \u001b[49m\u001b[43mcursor\u001b[49m\u001b[43m,\u001b[49m\u001b[43m \u001b[49m\u001b[43merror_class\u001b[49m\u001b[43m,\u001b[49m\u001b[43m \u001b[49m\u001b[43merror_value\u001b[49m\u001b[43m)\u001b[49m\n\u001b[0;32m    332\u001b[0m     \u001b[38;5;28;01mreturn\u001b[39;00m \u001b[38;5;28;01mTrue\u001b[39;00m\n\u001b[0;32m    333\u001b[0m \u001b[38;5;28;01melif\u001b[39;00m connection \u001b[38;5;129;01mis\u001b[39;00m \u001b[38;5;129;01mnot\u001b[39;00m \u001b[38;5;28;01mNone\u001b[39;00m:\n",
      "File \u001b[1;32m~\\.conda\\envs\\py38_env\\lib\\site-packages\\snowflake\\connector\\errors.py:210\u001b[0m, in \u001b[0;36mError.default_errorhandler\u001b[1;34m(connection, cursor, error_class, error_value)\u001b[0m\n\u001b[0;32m    192\u001b[0m \u001b[38;5;129m@staticmethod\u001b[39m\n\u001b[0;32m    193\u001b[0m \u001b[38;5;28;01mdef\u001b[39;00m \u001b[38;5;21mdefault_errorhandler\u001b[39m(\n\u001b[0;32m    194\u001b[0m     connection: SnowflakeConnection,\n\u001b[1;32m   (...)\u001b[0m\n\u001b[0;32m    197\u001b[0m     error_value: \u001b[38;5;28mdict\u001b[39m[\u001b[38;5;28mstr\u001b[39m, \u001b[38;5;28mstr\u001b[39m],\n\u001b[0;32m    198\u001b[0m ) \u001b[38;5;241m-\u001b[39m\u001b[38;5;241m>\u001b[39m \u001b[38;5;28;01mNone\u001b[39;00m:\n\u001b[0;32m    199\u001b[0m \u001b[38;5;250m    \u001b[39m\u001b[38;5;124;03m\"\"\"Default error handler that raises an error.\u001b[39;00m\n\u001b[0;32m    200\u001b[0m \n\u001b[0;32m    201\u001b[0m \u001b[38;5;124;03m    Args:\u001b[39;00m\n\u001b[1;32m   (...)\u001b[0m\n\u001b[0;32m    208\u001b[0m \u001b[38;5;124;03m        A Snowflake error.\u001b[39;00m\n\u001b[0;32m    209\u001b[0m \u001b[38;5;124;03m    \"\"\"\u001b[39;00m\n\u001b[1;32m--> 210\u001b[0m     \u001b[38;5;28;01mraise\u001b[39;00m error_class(\n\u001b[0;32m    211\u001b[0m         msg\u001b[38;5;241m=\u001b[39merror_value\u001b[38;5;241m.\u001b[39mget(\u001b[38;5;124m\"\u001b[39m\u001b[38;5;124mmsg\u001b[39m\u001b[38;5;124m\"\u001b[39m),\n\u001b[0;32m    212\u001b[0m         errno\u001b[38;5;241m=\u001b[39merror_value\u001b[38;5;241m.\u001b[39mget(\u001b[38;5;124m\"\u001b[39m\u001b[38;5;124merrno\u001b[39m\u001b[38;5;124m\"\u001b[39m),\n\u001b[0;32m    213\u001b[0m         sqlstate\u001b[38;5;241m=\u001b[39merror_value\u001b[38;5;241m.\u001b[39mget(\u001b[38;5;124m\"\u001b[39m\u001b[38;5;124msqlstate\u001b[39m\u001b[38;5;124m\"\u001b[39m),\n\u001b[0;32m    214\u001b[0m         sfqid\u001b[38;5;241m=\u001b[39merror_value\u001b[38;5;241m.\u001b[39mget(\u001b[38;5;124m\"\u001b[39m\u001b[38;5;124msfqid\u001b[39m\u001b[38;5;124m\"\u001b[39m),\n\u001b[0;32m    215\u001b[0m         done_format_msg\u001b[38;5;241m=\u001b[39merror_value\u001b[38;5;241m.\u001b[39mget(\u001b[38;5;124m\"\u001b[39m\u001b[38;5;124mdone_format_msg\u001b[39m\u001b[38;5;124m\"\u001b[39m),\n\u001b[0;32m    216\u001b[0m         connection\u001b[38;5;241m=\u001b[39mconnection,\n\u001b[0;32m    217\u001b[0m         cursor\u001b[38;5;241m=\u001b[39mcursor,\n\u001b[0;32m    218\u001b[0m     )\n",
      "\u001b[1;31mProgrammingError\u001b[0m: 253006: File doesn't exist: ['inbounddata_85.csv']"
     ]
    }
   ],
   "source": [
    "a.ingest_csv_file('inbound\\data_85.csv','target_table_7')"
   ]
  },
  {
   "cell_type": "code",
   "execution_count": 50,
   "id": "d0401606",
   "metadata": {},
   "outputs": [
    {
     "data": {
      "text/plain": [
       "['inbound', 'data_85.csv']"
      ]
     },
     "execution_count": 50,
     "metadata": {},
     "output_type": "execute_result"
    }
   ],
   "source": [
    "path = 'inbound\\data_85.csv'\n",
    "s.split('\\\\')"
   ]
  },
  {
   "cell_type": "code",
   "execution_count": 51,
   "id": "c810b386",
   "metadata": {},
   "outputs": [
    {
     "data": {
      "text/plain": [
       "'inbound'"
      ]
     },
     "execution_count": 51,
     "metadata": {},
     "output_type": "execute_result"
    }
   ],
   "source": [
    "\"/\".join(path.split('\\\\')[:-1])"
   ]
  },
  {
   "cell_type": "code",
   "execution_count": 31,
   "id": "6eff5927",
   "metadata": {},
   "outputs": [],
   "source": [
    "class osi:\n",
    "    def __init__(self,path):\n",
    "        print(os.listdir())\n",
    "        print(path)"
   ]
  },
  {
   "cell_type": "code",
   "execution_count": 32,
   "id": "94759576",
   "metadata": {},
   "outputs": [
    {
     "name": "stdout",
     "output_type": "stream",
     "text": [
      "['.ipynb_checkpoints', 'archive', 'failed', 'final.ipynb', 'inbound', 'mapping', 'missing', 'SNOWFLAKE_CREDS.cfg', 'Untitled.ipynb']\n",
      "D:\\snowpark\n"
     ]
    },
    {
     "data": {
      "text/plain": [
       "<__main__.osi at 0x2396837cdc0>"
      ]
     },
     "execution_count": 32,
     "metadata": {},
     "output_type": "execute_result"
    }
   ],
   "source": [
    "osi(r'D:\\snowpark')"
   ]
  },
  {
   "cell_type": "code",
   "execution_count": 22,
   "id": "858b46c8",
   "metadata": {},
   "outputs": [],
   "source": [
    "s = r\"sdf\\aeawfa\""
   ]
  },
  {
   "cell_type": "code",
   "execution_count": 23,
   "id": "7e89dbc2",
   "metadata": {},
   "outputs": [
    {
     "data": {
      "text/plain": [
       "'sdf\\\\aeawfa'"
      ]
     },
     "execution_count": 23,
     "metadata": {},
     "output_type": "execute_result"
    }
   ],
   "source": [
    "s"
   ]
  },
  {
   "cell_type": "code",
   "execution_count": 7,
   "id": "815da63f",
   "metadata": {},
   "outputs": [],
   "source": [
    "import os\n"
   ]
  },
  {
   "cell_type": "code",
   "execution_count": 9,
   "id": "27cc8010",
   "metadata": {},
   "outputs": [
    {
     "name": "stdout",
     "output_type": "stream",
     "text": [
      "data_85.csv\n",
      "data_86.csv\n",
      "sales_2023.csv\n"
     ]
    }
   ],
   "source": [
    "path = r'D:\\snowpark'\n",
    "for i in  os.listdir(os.path.join(path,'inbound')):\n",
    "    print(i)"
   ]
  },
  {
   "cell_type": "code",
   "execution_count": 29,
   "id": "1783c9e9",
   "metadata": {},
   "outputs": [
    {
     "data": {
      "text/plain": [
       "['.ipynb_checkpoints',\n",
       " 'archive',\n",
       " 'failed',\n",
       " 'final.ipynb',\n",
       " 'inbound',\n",
       " 'mapping',\n",
       " 'missing',\n",
       " 'SNOWFLAKE_CREDS.cfg',\n",
       " 'Untitled.ipynb']"
      ]
     },
     "execution_count": 29,
     "metadata": {},
     "output_type": "execute_result"
    }
   ],
   "source": [
    "os.listdir(r'D:\\snowpark')"
   ]
  },
  {
   "cell_type": "code",
   "execution_count": 35,
   "id": "148fec84",
   "metadata": {},
   "outputs": [
    {
     "ename": "SyntaxError",
     "evalue": "invalid syntax (304859402.py, line 1)",
     "output_type": "error",
     "traceback": [
      "\u001b[1;36m  Cell \u001b[1;32mIn[35], line 1\u001b[1;36m\u001b[0m\n\u001b[1;33m    os.path.join(r'D:\\','snowpark')\u001b[0m\n\u001b[1;37m                         ^\u001b[0m\n\u001b[1;31mSyntaxError\u001b[0m\u001b[1;31m:\u001b[0m invalid syntax\n"
     ]
    }
   ],
   "source": [
    "os.path.join(r'D:\\','snowpark')"
   ]
  },
  {
   "cell_type": "code",
   "execution_count": null,
   "id": "e05bba61",
   "metadata": {},
   "outputs": [],
   "source": [
    "file name\n",
    "date\n",
    "logs"
   ]
  },
  {
   "cell_type": "code",
   "execution_count": 78,
   "id": "1deb0408",
   "metadata": {},
   "outputs": [
    {
     "name": "stdout",
     "output_type": "stream",
     "text": [
      "internal has been created\n",
      "self.ingest_csv_file(data_85.csv),target_table1,field_delimiter = delim)\n",
      "PUT file://D:\\snowpark\\inbound\\data_85.csv @internal AUTO_COMPRESS = FALSE OVERWRITE = TRUE\n",
      "self.create_table(target_table1,data_85.csv,delimiter = \",\")\n",
      "\n",
      "                    CREATE TABLE IF NOT EXISTS  TARGET_TABLE1\n",
      "                    USING TEMPLATE (\n",
      "                           SELECT ARRAY_AGG(OBJECT_CONSTRUCT(*))\n",
      "                           WITHIN GROUP (ORDER BY ORDER_ID)\n",
      "                           FROM TABLE(\n",
      "                               INFER_SCHEMA(\n",
      "                                     LOCATION=>'@internal/data_85.csv',\n",
      "                                     FILE_FORMAT=>'my_csv_format')));\n",
      "                \n",
      "\n",
      "TARGET_TABLE1 has been created\n",
      "\n",
      "\n",
      "                            COPY INTO TARGET_TABLE1 \n",
      "                            FROM '@DB1.SH1.internal/data_85.csv'\n",
      "                            FILE_FORMAT = (\n",
      "                                    TYPE = CSV   \n",
      "                                    SKIP_HEADER = 1\n",
      "                                    FIELD_DELIMITER = ',')\n",
      "                            on_error = continue;\n",
      "self.ingest_csv_file(data_86.csv),target_table1,field_delimiter = delim)\n",
      "PUT file://D:\\snowpark\\inbound\\data_86.csv @internal AUTO_COMPRESS = FALSE OVERWRITE = TRUE\n",
      "self.create_table(target_table1,data_86.csv,delimiter = \",\")\n",
      "\n",
      "                    CREATE TABLE IF NOT EXISTS  TARGET_TABLE1\n",
      "                    USING TEMPLATE (\n",
      "                           SELECT ARRAY_AGG(OBJECT_CONSTRUCT(*))\n",
      "                           WITHIN GROUP (ORDER BY ORDER_ID)\n",
      "                           FROM TABLE(\n",
      "                               INFER_SCHEMA(\n",
      "                                     LOCATION=>'@internal/data_86.csv',\n",
      "                                     FILE_FORMAT=>'my_csv_format')));\n",
      "                \n",
      "\n",
      "TARGET_TABLE1 has been created\n",
      "\n",
      "\n",
      "                            COPY INTO TARGET_TABLE1 \n",
      "                            FROM '@DB1.SH1.internal/data_86.csv'\n",
      "                            FILE_FORMAT = (\n",
      "                                    TYPE = CSV   \n",
      "                                    SKIP_HEADER = 1\n",
      "                                    FIELD_DELIMITER = ',')\n",
      "                            on_error = continue;\n",
      "self.ingest_csv_file(sales_2023.csv),target_table2,field_delimiter = delim)\n",
      "PUT file://D:\\snowpark\\inbound\\sales_2023.csv @internal AUTO_COMPRESS = FALSE OVERWRITE = TRUE\n",
      "self.create_table(target_table2,sales_2023.csv,delimiter = \"|\")\n",
      "\n",
      "                    CREATE TABLE IF NOT EXISTS  TARGET_TABLE2\n",
      "                    USING TEMPLATE (\n",
      "                           SELECT ARRAY_AGG(OBJECT_CONSTRUCT(*))\n",
      "                           WITHIN GROUP (ORDER BY ORDER_ID)\n",
      "                           FROM TABLE(\n",
      "                               INFER_SCHEMA(\n",
      "                                     LOCATION=>'@internal/sales_2023.csv',\n",
      "                                     FILE_FORMAT=>'my_csv_format')));\n",
      "                \n",
      "\n",
      "TARGET_TABLE2 has been created\n",
      "\n",
      "\n",
      "                            COPY INTO TARGET_TABLE2 \n",
      "                            FROM '@DB1.SH1.internal/sales_2023.csv'\n",
      "                            FILE_FORMAT = (\n",
      "                                    TYPE = CSV   \n",
      "                                    SKIP_HEADER = 1\n",
      "                                    FIELD_DELIMITER = '|')\n",
      "                            on_error = continue;\n"
     ]
    }
   ],
   "source": [
    "class Metaframework:\n",
    "    \n",
    "    def __init__(self,path,stage = None):\n",
    "        self.path = path\n",
    "        \n",
    "        parser = ConfigParser()\n",
    "        parser.read(f'{os.path.join(self.path,\"SNOWFLAKE_CREDS.cfg\")}')\n",
    "        account = parser.get('my_api','account')\n",
    "        user = parser.get('my_api','user')\n",
    "        password = parser.get('my_api','password')\n",
    "        database = parser.get('my_api','database')\n",
    "        schema = parser.get('my_api','schema')\n",
    "        role = parser.get('my_api','role')\n",
    "        warehouse = parser.get('my_api','warehouse')\n",
    "       \n",
    "        conn = snowflake.connector.connect( user = user ,password = password,account = account ,warehouse = warehouse ,\n",
    "                                           database = database,schema = schema,role = role)\n",
    "        self.curs = conn.cursor()\n",
    "        \n",
    "        if stage is None:\n",
    "            self.stage = 'internal'\n",
    "            self.curs.execute(f'CREATE OR REPLACE STAGE {self.stage}')\n",
    "        else:\n",
    "            self.stage = stage\n",
    "            self.curs.execute(f'CREATE STAGE IF NOT EXISTS {self.stage};')\n",
    "        \n",
    "        print(f'{self.stage} has been created')\n",
    "        \n",
    "        \n",
    "    def create_table(self,target_table,file_path,delimiter=',',replace=False):\n",
    "        file_format = f\"CREATE OR REPLACE FILE FORMAT my_csv_format TYPE = 'CSV' FIELD_DELIMITER = '{delimiter}'  PARSE_HEADER = TRUE;\"\n",
    "        self.curs.execute(file_format)\n",
    "        statement = ' OR REPLACE TABLE' if replace else \"TABLE IF NOT EXISTS \"\n",
    "        query = f\"\"\"\n",
    "                    CREATE {statement} {target_table.upper()}\n",
    "                    USING TEMPLATE (\n",
    "                           SELECT ARRAY_AGG(OBJECT_CONSTRUCT(*))\n",
    "                           WITHIN GROUP (ORDER BY ORDER_ID)\n",
    "                           FROM TABLE(\n",
    "                               INFER_SCHEMA(\n",
    "                                     LOCATION=>'@{self.stage}/{file_path}',\n",
    "                                     FILE_FORMAT=>'my_csv_format')));\n",
    "                \"\"\"\n",
    "        print(query)\n",
    "        self.curs.execute(query)\n",
    "        print(f'\\n{target_table.upper()} has been created\\n')\n",
    "        \n",
    "        \n",
    "    def ingest_csv_file(self, file, table_name, skip_header = 1, field_delimiter = ',', target_operation = 'append', *args):\n",
    "         \n",
    "         # Put file to stage \n",
    "        import os\n",
    "        full_path = os.path.join(self.path,'inbound',file)\n",
    "        put_file = f\"PUT file://{full_path} @{self.stage} AUTO_COMPRESS = FALSE OVERWRITE = TRUE\"\n",
    "        print(put_file)\n",
    "        self.curs.execute(put_file)\n",
    "        \n",
    "        #creating table with path and delimiter from metadata\n",
    "        print(f'self.create_table({table_name},{file},delimiter = \"{field_delimiter}\")')\n",
    "        self.create_table(table_name,file,delimiter=field_delimiter)\n",
    "        \n",
    "        # append or overwrite\n",
    "        if target_operation.casefold() == 'overwrite':\n",
    "            print(f\"{table_name.upper()} is truncated\")\n",
    "            truncate_query = f\"TRUNCATE TABLE {table_name.upper()}\"  \n",
    "            curs.execute(truncate_query)\n",
    "        \n",
    "        \n",
    "        # Copy CSV file data into Snowflake table\n",
    "        copy_query = f\"\"\"\n",
    "                            COPY INTO {table_name.upper()} \n",
    "                            FROM '@{database}.{schema}.{self.stage}/{file}'\n",
    "                            FILE_FORMAT = (\n",
    "                                    TYPE = CSV   \n",
    "                                    SKIP_HEADER = {skip_header}\n",
    "                                    FIELD_DELIMITER = '{field_delimiter}')\n",
    "                            on_error = continue;\"\"\"\n",
    "        print(copy_query)\n",
    "        self.curs.execute(copy_query)\n",
    "\n",
    "        \n",
    "    def main(self):\n",
    "        \n",
    "        csv_folder = os.path.join(self.path,'inbound')\n",
    "        archive_folder = os.path.join(self.path,'archive')\n",
    "        missing_folder = os.path.join(self.path,'missing')\n",
    "        failed_folder = os.path.join(self.path,'failed')\n",
    "\n",
    "        df = pd.read_csv('mapping/metadata1.csv',header = 0)\n",
    "\n",
    "        for file in os.listdir(os.path.join(csv_folder)):\n",
    "            matching = False\n",
    "            for ind in df.index:\n",
    "                if fnmatch.fnmatch(file, df['src_file_prefix'][ind]+'*.csv'):\n",
    "                    if df['is_active'][ind] == 'Y':\n",
    "                        delim = df['src_file_delim'][ind]\n",
    "                        \n",
    "                        print(f\"self.ingest_csv_file({file}),{df['tgt_table'][ind]},field_delimiter = delim)\")\n",
    "                        self.ingest_csv_file(file,df['tgt_table'][ind],field_delimiter = delim)\n",
    "                        shutil.move(os.path.join(csv_folder, file),archive_folder)\n",
    "\n",
    "                    else:\n",
    "                        print(f'Skipping CSV file {file} for table {df[\"tgt_table\"][ind]} due to inactive flag.')\n",
    "                        # Move the skipped file to the missing mapping folder\n",
    "                        shutil.move(os.path.join(csv_folder, file), failed_folder)\n",
    "                        print(f'CSV file \"{file}\" moved to missing mapping folder \"{failed_folder}\".')\n",
    "                    matching = True\n",
    "                    break\n",
    "            if not matching:\n",
    "                    print(f'\\n No file name pattern found for CSV file \"{file}\" . Skipping the file.\\n')\n",
    "                    shutil.move(os.path.join(csv_folder, file), missing_folder)\n",
    "                    print(f'\\nCSV file \"{file}\" moved to missing mapping folder {missing_folder}\".\\n')\n",
    "        #           \n",
    "        self.curs.close()\n",
    "\n",
    "c1 = Metaframework(r'D:\\snowpark')\n",
    "c1.main()"
   ]
  },
  {
   "cell_type": "code",
   "execution_count": 47,
   "id": "6ba3eb6b",
   "metadata": {},
   "outputs": [
    {
     "name": "stdout",
     "output_type": "stream",
     "text": [
      "D:/snowpark/inbound/data_85.csv\n"
     ]
    },
    {
     "data": {
      "text/plain": [
       "<snowflake.connector.cursor.SnowflakeCursor at 0x1ed6637d280>"
      ]
     },
     "execution_count": 47,
     "metadata": {},
     "output_type": "execute_result"
    }
   ],
   "source": [
    "parser = ConfigParser()\n",
    "parser.read(os.path.join(r\"D:\\snowpark\",\"SNOWFLAKE_CREDS.cfg\"))\n",
    "account = parser.get('my_api','account')\n",
    "user = parser.get('my_api','user')\n",
    "password = parser.get('my_api','password')\n",
    "database = parser.get('my_api','database')\n",
    "schema = parser.get('my_api','schema')\n",
    "role = parser.get('my_api','role')\n",
    "warehouse = parser.get('my_api','warehouse')\n",
    "\n",
    "conn = snowflake.connector.connect( user = user ,password = password,account = account ,warehouse = warehouse ,\n",
    "                                   database = database,schema = schema,role = role)\n",
    "curs = conn.cursor()\n",
    "file_path = 'D:' + '/' + 'snowpark' + '/' + 'inbound' + '/' + 'data_85.csv'\n",
    "print(file_path)\n",
    "curs.execute(f\"PUT 'file://{file_path}' @internal/inbound/data_87.csv AUTO_COMPRESS = FALSE OVERWRITE = TRUE\")"
   ]
  },
  {
   "cell_type": "code",
   "execution_count": null,
   "id": "92f935f7",
   "metadata": {},
   "outputs": [],
   "source": [
    "print('os.path.join(r\"D:\\snowpark\",\"SNOWFLAKE_CREDS.cfg\")}')\n",
    "    "
   ]
  },
  {
   "cell_type": "code",
   "execution_count": 42,
   "id": "733caf93",
   "metadata": {},
   "outputs": [
    {
     "name": "stdout",
     "output_type": "stream",
     "text": [
      ".git\n",
      ".ipynb_checkpoints\n",
      "archive\n",
      "failed\n",
      "final.ipynb\n",
      "final_revised.ipynb\n",
      "inbound\n",
      "logs\n",
      "mapping\n",
      "missing\n",
      "SNOWFLAKE_CREDS.cfg\n"
     ]
    }
   ],
   "source": [
    "for i in os.listdir(r'D:\\snowpark'):\n",
    "    print(i)"
   ]
  },
  {
   "cell_type": "code",
   "execution_count": 59,
   "id": "6d353b4c",
   "metadata": {},
   "outputs": [],
   "source": [
    "FILE = os.path.join(r\"D:\\snowpark\",'inbound','sales_2023.csv')"
   ]
  },
  {
   "cell_type": "code",
   "execution_count": 60,
   "id": "4c994d46",
   "metadata": {},
   "outputs": [
    {
     "data": {
      "text/plain": [
       "<snowflake.connector.cursor.SnowflakeCursor at 0x1ed6637d280>"
      ]
     },
     "execution_count": 60,
     "metadata": {},
     "output_type": "execute_result"
    }
   ],
   "source": [
    "curs.execute(f\"PUT file://{FILE} @internal \")"
   ]
  },
  {
   "cell_type": "code",
   "execution_count": 65,
   "id": "21fa1d4b",
   "metadata": {},
   "outputs": [
    {
     "data": {
      "text/plain": [
       "<snowflake.connector.cursor.SnowflakeCursor at 0x1ed6637d280>"
      ]
     },
     "execution_count": 65,
     "metadata": {},
     "output_type": "execute_result"
    }
   ],
   "source": [
    "curs.execute(f'PUT file://D:\\snowpark\\inbound\\data_85.csv @internal AUTO_COMPRESS = FALSE OVERWRITE = TRUE')"
   ]
  },
  {
   "cell_type": "code",
   "execution_count": 63,
   "id": "78bf5c28",
   "metadata": {},
   "outputs": [
    {
     "data": {
      "text/plain": [
       "'D:\\\\snowpark\\\\inbound\\\\sales_2023.csv'"
      ]
     },
     "execution_count": 63,
     "metadata": {},
     "output_type": "execute_result"
    }
   ],
   "source": [
    "FILE"
   ]
  },
  {
   "cell_type": "code",
   "execution_count": null,
   "id": "54d7a1d8",
   "metadata": {},
   "outputs": [],
   "source": [
    "FILE = FILE.replace('//','\\')"
   ]
  }
 ],
 "metadata": {
  "kernelspec": {
   "display_name": "Python 3 (ipykernel)",
   "language": "python",
   "name": "python3"
  },
  "language_info": {
   "codemirror_mode": {
    "name": "ipython",
    "version": 3
   },
   "file_extension": ".py",
   "mimetype": "text/x-python",
   "name": "python",
   "nbconvert_exporter": "python",
   "pygments_lexer": "ipython3",
   "version": "3.8.16"
  }
 },
 "nbformat": 4,
 "nbformat_minor": 5
}
