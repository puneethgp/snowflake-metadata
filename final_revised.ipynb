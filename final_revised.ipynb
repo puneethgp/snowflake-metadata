{
 "cells": [
  {
   "cell_type": "code",
   "execution_count": 1,
   "id": "87919055",
   "metadata": {},
   "outputs": [],
   "source": [
    "import os\n",
    "import glob\n",
    "import csv\n",
    "import pandas as pd\n",
    "import shutil\n",
    "import snowflake.connector\n",
    "import configparser\n",
    "import fnmatch\n",
    "from configparser import ConfigParser\n",
    "import os"
   ]
  },
  {
   "cell_type": "code",
   "execution_count": 5,
   "id": "d972ecd6",
   "metadata": {},
   "outputs": [],
   "source": [
    "\n",
    "\n",
    "\n",
    "class Metaframework:\n",
    "    \n",
    "    def __init__(self,path,stage = 'internal'):\n",
    "        self.path = path\n",
    "        self.stage = stage\n",
    "        parser = ConfigParser()\n",
    "        parser.read(f'{self.path}/SNOWFLAKE_CREDS.cfg')\n",
    "        account = parser.get('my_api','account')\n",
    "        user = parser.get('my_api','user')\n",
    "        password = parser.get('my_api','password')\n",
    "        database = parser.get('my_api','database')\n",
    "        schema = parser.get('my_api','schema')\n",
    "        role = parser.get('my_api','role')\n",
    "        warehouse = parser.get('my_api','warehouse')\n",
    "       \n",
    "        conn = snowflake.connector.connect( user = user ,password = password,account = account ,warehouse = warehouse ,\n",
    "                                           database = database,schema = schema,role = role)\n",
    "        self.curs = conn.cursor()\n",
    "        \n",
    "        self.curs.execute(f'CREATE STAGE IF NOT EXISTS {self.stage};')\n",
    "        print(f'{self.stage} has been created')\n",
    "        \n",
    "        \n",
    "    def create_table(self,target_table,file_path,delimiter=',',replace=False):\n",
    "        file_format = f\"CREATE OR REPLACE FILE FORMAT my_csv_format TYPE = 'CSV' FIELD_DELIMITER = '{delimiter}'  PARSE_HEADER = TRUE;\"\n",
    "        self.curs.execute(file_format)\n",
    "        statement = ' OR REPLACE TABLE' if replace else \"TABLE IF NOT EXISTS \"\n",
    "        query = f\"\"\"\n",
    "                    CREATE {statement} {target_table}\n",
    "                    USING TEMPLATE (\n",
    "                           SELECT ARRAY_AGG(OBJECT_CONSTRUCT(*))\n",
    "                           WITHIN GROUP (ORDER BY ORDER_ID)\n",
    "                           FROM TABLE(\n",
    "                               INFER_SCHEMA(\n",
    "                                     LOCATION=>'{file_path}',\n",
    "                                     FILE_FORMAT=>'my_csv_format')));\n",
    "                \"\"\"\n",
    "        print(query)\n",
    "        self.curs.execute(query)\n",
    "        print(f'\\n{target_table.upper()} has been created\\n')\n",
    "        \n",
    "        \n",
    "    def ingest_csv_file(self, csv_file_path, table_name, skip_header = 1, field_delimiter = ',', target_operation = 'append', *args):\n",
    "         \n",
    "         # Put file to stage \n",
    "        import os\n",
    "        full_path = os.path.join(self.path,csv_file_path) \n",
    "        put_file = f\"PUT 'file://{os.path.join(self.path,csv_file_path)}'' @{os.path.join(self.stage,csv_file_path)} AUTO_COMPRESS = FALSE OVERWRITE = TRUE\"\n",
    "        \n",
    "        #creating table with path and delimiter from metadata\n",
    "        self.create_table(table_name,stage_path,delimiter=field_delimiter)\n",
    "        \n",
    "        # append or overwrite\n",
    "        if target_operation.casefold() == 'overwrite':\n",
    "            print(f\"{table_name.upper()} is truncated\")\n",
    "            truncate_query = f\"TRUNCATE TABLE {table_name.upper()}\"  \n",
    "            curs.execute(truncate_query)\n",
    "        \n",
    "        \n",
    "        # Copy CSV file data into Snowflake table\n",
    "        copy_query = f\"\"\"\n",
    "                            COPY INTO {table_name.upper()} \n",
    "                            FROM '@{database}.{schema}.{stage_path}'\n",
    "                            FILE_FORMAT = (\n",
    "                                    TYPE = CSV   \n",
    "                                    SKIP_HEADER = {skip_header}\n",
    "                                    FIELD_DELIMITER = '{field_delimiter}')\n",
    "                            on_error = continue;\"\"\"\n",
    "        print(copy_query)\n",
    "        self.curs.execute(copy_query)\n",
    "\n",
    "        \n",
    "    def main(self):\n",
    "        csv_file_path = 'inbound/'\n",
    "        archive_folder = 'archive/'\n",
    "        missing_folder = 'missing/'\n",
    "        failed = 'failed/'\n",
    "\n",
    "        df = pd.read_csv('mapping/metadata1.csv',header = 0)\n",
    "\n",
    "        for file in os.listdir(self.csv_file_path):\n",
    "            matching = False\n",
    "            for ind in df.index:\n",
    "                if fnmatch.fnmatch(file, df['src_file_prefix'][ind]+'*.csv'):\n",
    "                    if df['is_active'][ind] == 'Y':\n",
    "                        delim = ','\n",
    "                        if df['src_file_delim'][ind] != ',':\n",
    "                            delim = df['src_file_delim'][ind]\n",
    "                        ingest_csv_file(stage,self.csv_file_path+file,df['tgt_table'][ind],field_delimiter = delim)\n",
    "        #                 print(f\"ingest_csv_file({stage},{csv_file_path+file},{df['tgt_table'][ind]})\")\n",
    "                        shutil.move(csv_file_path+file,'archive/')\n",
    "\n",
    "                    else:\n",
    "                        print(f'Skipping CSV file {file} for table {df[\"tgt_table\"][ind]} due to inactive flag.')\n",
    "                        # Move the skipped file to the missing mapping folder\n",
    "                        shutil.move(csv_file_path + file, failed)\n",
    "                        print(f'CSV file \"{file}\" moved to missing mapping folder \"{failed}\".')\n",
    "                    matching = True\n",
    "                    break\n",
    "            if not matching:\n",
    "                    print(f'\\n No file name pattern found for CSV file \"{file}\" . Skipping the file.\\n')\n",
    "                    shutil.move(csv_file_path + file, missing_folder)\n",
    "                    print(f'\\nCSV file \"{file}\" moved to missing mapping folder {missing_folder}\".\\n')"
   ]
  },
  {
   "cell_type": "markdown",
   "id": "fd056be6",
   "metadata": {},
   "source": [
    "a = Metaframework('D:\\snowpark')"
   ]
  },
  {
   "cell_type": "markdown",
   "id": "3276967a",
   "metadata": {},
   "source": [
    "a.put_file('inbound/data_85.csv')"
   ]
  },
  {
   "cell_type": "markdown",
   "id": "cb083142",
   "metadata": {},
   "source": [
    "a.create_table('TARGET_1','@internal/inbound/data_85.csv')"
   ]
  },
  {
   "cell_type": "code",
   "execution_count": 6,
   "id": "0d25561c",
   "metadata": {},
   "outputs": [],
   "source": [
    "a = Metaframework('D:\\snowpark','internal_4')\n",
    "#  csv_file_path, table_name, skip_header = 1, field_delimiter = ',', target_operation = 'append', *args):\n"
   ]
  },
  {
   "cell_type": "code",
   "execution_count": 78,
   "id": "25ca84f3",
   "metadata": {},
   "outputs": [
    {
     "name": "stdout",
     "output_type": "stream",
     "text": [
      "internal has been created\n",
      "self.ingest_csv_file(data_85.csv),target_table1,field_delimiter = delim)\n",
      "PUT file://D:\\snowpark\\inbound\\data_85.csv @internal AUTO_COMPRESS = FALSE OVERWRITE = TRUE\n",
      "self.create_table(target_table1,data_85.csv,delimiter = \",\")\n",
      "\n",
      "                    CREATE TABLE IF NOT EXISTS  TARGET_TABLE1\n",
      "                    USING TEMPLATE (\n",
      "                           SELECT ARRAY_AGG(OBJECT_CONSTRUCT(*))\n",
      "                           WITHIN GROUP (ORDER BY ORDER_ID)\n",
      "                           FROM TABLE(\n",
      "                               INFER_SCHEMA(\n",
      "                                     LOCATION=>'@internal/data_85.csv',\n",
      "                                     FILE_FORMAT=>'my_csv_format')));\n",
      "                \n",
      "\n",
      "TARGET_TABLE1 has been created\n",
      "\n",
      "\n",
      "                            COPY INTO TARGET_TABLE1 \n",
      "                            FROM '@DB1.SH1.internal/data_85.csv'\n",
      "                            FILE_FORMAT = (\n",
      "                                    TYPE = CSV   \n",
      "                                    SKIP_HEADER = 1\n",
      "                                    FIELD_DELIMITER = ',')\n",
      "                            on_error = continue;\n",
      "self.ingest_csv_file(data_86.csv),target_table1,field_delimiter = delim)\n",
      "PUT file://D:\\snowpark\\inbound\\data_86.csv @internal AUTO_COMPRESS = FALSE OVERWRITE = TRUE\n",
      "self.create_table(target_table1,data_86.csv,delimiter = \",\")\n",
      "\n",
      "                    CREATE TABLE IF NOT EXISTS  TARGET_TABLE1\n",
      "                    USING TEMPLATE (\n",
      "                           SELECT ARRAY_AGG(OBJECT_CONSTRUCT(*))\n",
      "                           WITHIN GROUP (ORDER BY ORDER_ID)\n",
      "                           FROM TABLE(\n",
      "                               INFER_SCHEMA(\n",
      "                                     LOCATION=>'@internal/data_86.csv',\n",
      "                                     FILE_FORMAT=>'my_csv_format')));\n",
      "                \n",
      "\n",
      "TARGET_TABLE1 has been created\n",
      "\n",
      "\n",
      "                            COPY INTO TARGET_TABLE1 \n",
      "                            FROM '@DB1.SH1.internal/data_86.csv'\n",
      "                            FILE_FORMAT = (\n",
      "                                    TYPE = CSV   \n",
      "                                    SKIP_HEADER = 1\n",
      "                                    FIELD_DELIMITER = ',')\n",
      "                            on_error = continue;\n",
      "self.ingest_csv_file(sales_2023.csv),target_table2,field_delimiter = delim)\n",
      "PUT file://D:\\snowpark\\inbound\\sales_2023.csv @internal AUTO_COMPRESS = FALSE OVERWRITE = TRUE\n",
      "self.create_table(target_table2,sales_2023.csv,delimiter = \"|\")\n",
      "\n",
      "                    CREATE TABLE IF NOT EXISTS  TARGET_TABLE2\n",
      "                    USING TEMPLATE (\n",
      "                           SELECT ARRAY_AGG(OBJECT_CONSTRUCT(*))\n",
      "                           WITHIN GROUP (ORDER BY ORDER_ID)\n",
      "                           FROM TABLE(\n",
      "                               INFER_SCHEMA(\n",
      "                                     LOCATION=>'@internal/sales_2023.csv',\n",
      "                                     FILE_FORMAT=>'my_csv_format')));\n",
      "                \n",
      "\n",
      "TARGET_TABLE2 has been created\n",
      "\n",
      "\n",
      "                            COPY INTO TARGET_TABLE2 \n",
      "                            FROM '@DB1.SH1.internal/sales_2023.csv'\n",
      "                            FILE_FORMAT = (\n",
      "                                    TYPE = CSV   \n",
      "                                    SKIP_HEADER = 1\n",
      "                                    FIELD_DELIMITER = '|')\n",
      "                            on_error = continue;\n"
     ]
    }
   ],
   "source": [
    "class Metaframework:\n",
    "    \n",
    "    def __init__(self,path,stage = None):\n",
    "        self.path = path\n",
    "        \n",
    "        parser = ConfigParser()\n",
    "        parser.read(f'{os.path.join(self.path,\"SNOWFLAKE_CREDS.cfg\")}')\n",
    "        account = parser.get('my_api','account')\n",
    "        user = parser.get('my_api','user')\n",
    "        password = parser.get('my_api','password')\n",
    "        database = parser.get('my_api','database')\n",
    "        schema = parser.get('my_api','schema')\n",
    "        role = parser.get('my_api','role')\n",
    "        warehouse = parser.get('my_api','warehouse')\n",
    "       \n",
    "        conn = snowflake.connector.connect( user = user ,password = password,account = account ,warehouse = warehouse ,\n",
    "                                           database = database,schema = schema,role = role)\n",
    "        self.curs = conn.cursor()\n",
    "        \n",
    "        if stage is None:\n",
    "            self.stage = 'internal'\n",
    "            self.curs.execute(f'CREATE OR REPLACE STAGE {self.stage}')\n",
    "        else:\n",
    "            self.stage = stage\n",
    "            self.curs.execute(f'CREATE STAGE IF NOT EXISTS {self.stage};')\n",
    "        \n",
    "        print(f'{self.stage} has been created')\n",
    "        \n",
    "        \n",
    "    def create_table(self,target_table,file_path,delimiter=',',replace=False):\n",
    "        file_format = f\"CREATE OR REPLACE FILE FORMAT my_csv_format TYPE = 'CSV' FIELD_DELIMITER = '{delimiter}'  PARSE_HEADER = TRUE;\"\n",
    "        self.curs.execute(file_format)\n",
    "        statement = ' OR REPLACE TABLE' if replace else \"TABLE IF NOT EXISTS \"\n",
    "        query = f\"\"\"\n",
    "                    CREATE {statement} {target_table.upper()}\n",
    "                    USING TEMPLATE (\n",
    "                           SELECT ARRAY_AGG(OBJECT_CONSTRUCT(*))\n",
    "                           WITHIN GROUP (ORDER BY ORDER_ID)\n",
    "                           FROM TABLE(\n",
    "                               INFER_SCHEMA(\n",
    "                                     LOCATION=>'@{self.stage}/{file_path}',\n",
    "                                     FILE_FORMAT=>'my_csv_format')));\n",
    "                \"\"\"\n",
    "        print(query)\n",
    "        self.curs.execute(query)\n",
    "        print(f'\\n{target_table.upper()} has been created\\n')\n",
    "        \n",
    "        \n",
    "    def ingest_csv_file(self, file, table_name, skip_header = 1, field_delimiter = ',', target_operation = 'append', *args):\n",
    "         \n",
    "         # Put file to stage \n",
    "        import os\n",
    "        full_path = os.path.join(self.path,'inbound',file)\n",
    "        put_file = f\"PUT file://{full_path} @{self.stage} AUTO_COMPRESS = FALSE OVERWRITE = TRUE\"\n",
    "        print(put_file)\n",
    "        self.curs.execute(put_file)\n",
    "        \n",
    "        #creating table with path and delimiter from metadata\n",
    "        print(f'self.create_table({table_name},{file},delimiter = \"{field_delimiter}\")')\n",
    "        self.create_table(table_name,file,delimiter=field_delimiter)\n",
    "        \n",
    "        # append or overwrite\n",
    "        if target_operation.casefold() == 'overwrite':\n",
    "            print(f\"{table_name.upper()} is truncated\")\n",
    "            truncate_query = f\"TRUNCATE TABLE {table_name.upper()}\"  \n",
    "            curs.execute(truncate_query)\n",
    "        \n",
    "        \n",
    "        # Copy CSV file data into Snowflake table\n",
    "        copy_query = f\"\"\"\n",
    "                            COPY INTO {table_name.upper()} \n",
    "                            FROM '@{database}.{schema}.{self.stage}/{file}'\n",
    "                            FILE_FORMAT = (\n",
    "                                    TYPE = CSV   \n",
    "                                    SKIP_HEADER = {skip_header}\n",
    "                                    FIELD_DELIMITER = '{field_delimiter}')\n",
    "                            on_error = continue;\"\"\"\n",
    "        print(copy_query)\n",
    "        self.curs.execute(copy_query)\n",
    "\n",
    "        \n",
    "    def main(self):\n",
    "        \n",
    "        csv_folder = os.path.join(self.path,'inbound')\n",
    "        archive_folder = os.path.join(self.path,'archive')\n",
    "        missing_folder = os.path.join(self.path,'missing')\n",
    "        failed_folder = os.path.join(self.path,'failed')\n",
    "\n",
    "        df = pd.read_csv('mapping/metadata1.csv',header = 0)\n",
    "\n",
    "        for file in os.listdir(os.path.join(csv_folder)):\n",
    "            matching = False\n",
    "            for ind in df.index:\n",
    "                if fnmatch.fnmatch(file, df['src_file_prefix'][ind]+'*.csv'):\n",
    "                    if df['is_active'][ind] == 'Y':\n",
    "                        delim = df['src_file_delim'][ind]\n",
    "                        \n",
    "                        print(f\"self.ingest_csv_file({file}),{df['tgt_table'][ind]},field_delimiter = delim)\")\n",
    "                        self.ingest_csv_file(file,df['tgt_table'][ind],field_delimiter = delim)\n",
    "                        shutil.move(os.path.join(csv_folder, file),archive_folder)\n",
    "\n",
    "                    else:\n",
    "                        print(f'Skipping CSV file {file} for table {df[\"tgt_table\"][ind]} due to inactive flag.')\n",
    "                        # Move the skipped file to the missing mapping folder\n",
    "                        shutil.move(os.path.join(csv_folder, file), failed_folder)\n",
    "                        print(f'CSV file \"{file}\" moved to missing mapping folder \"{failed_folder}\".')\n",
    "                    matching = True\n",
    "                    break\n",
    "            if not matching:\n",
    "                    print(f'\\n No file name pattern found for CSV file \"{file}\" . Skipping the file.\\n')\n",
    "                    shutil.move(os.path.join(csv_folder, file), missing_folder)\n",
    "                    print(f'\\nCSV file \"{file}\" moved to missing mapping folder {missing_folder}\".\\n')\n",
    "        #           \n",
    "        self.curs.close()\n",
    "\n",
    "c1 = Metaframework(r'D:\\snowpark')\n",
    "c1.main()"
   ]
  },
  {
   "cell_type": "code",
   "execution_count": 47,
   "id": "b52bc9bf",
   "metadata": {},
   "outputs": [
    {
     "name": "stdout",
     "output_type": "stream",
     "text": [
      "D:/snowpark/inbound/data_85.csv\n"
     ]
    },
    {
     "data": {
      "text/plain": [
       "<snowflake.connector.cursor.SnowflakeCursor at 0x1ed6637d280>"
      ]
     },
     "execution_count": 47,
     "metadata": {},
     "output_type": "execute_result"
    }
   ],
   "source": [
    "parser = ConfigParser()\n",
    "parser.read(os.path.join(r\"D:\\snowpark\",\"SNOWFLAKE_CREDS.cfg\"))\n",
    "account = parser.get('my_api','account')\n",
    "user = parser.get('my_api','user')\n",
    "password = parser.get('my_api','password')\n",
    "database = parser.get('my_api','database')\n",
    "schema = parser.get('my_api','schema')\n",
    "role = parser.get('my_api','role')\n",
    "warehouse = parser.get('my_api','warehouse')\n",
    "\n",
    "conn = snowflake.connector.connect( user = user ,password = password,account = account ,warehouse = warehouse ,\n",
    "                                   database = database,schema = schema,role = role)\n",
    "curs = conn.cursor()\n",
    "file_path = 'D:' + '/' + 'snowpark' + '/' + 'inbound' + '/' + 'data_85.csv'\n",
    "print(file_path)\n",
    "curs.execute(f\"PUT 'file://{file_path}' @internal/inbound/data_87.csv AUTO_COMPRESS = FALSE OVERWRITE = TRUE\")"
   ]
  },
  {
   "cell_type": "code",
   "execution_count": null,
   "id": "ba19583d",
   "metadata": {},
   "outputs": [],
   "source": [
    "print('os.path.join(r\"D:\\snowpark\",\"SNOWFLAKE_CREDS.cfg\")}')\n",
    "    "
   ]
  },
  {
   "cell_type": "code",
   "execution_count": 42,
   "id": "f3f09692",
   "metadata": {},
   "outputs": [
    {
     "name": "stdout",
     "output_type": "stream",
     "text": [
      ".git\n",
      ".ipynb_checkpoints\n",
      "archive\n",
      "failed\n",
      "final.ipynb\n",
      "final_revised.ipynb\n",
      "inbound\n",
      "logs\n",
      "mapping\n",
      "missing\n",
      "SNOWFLAKE_CREDS.cfg\n"
     ]
    }
   ],
   "source": [
    "for i in os.listdir(r'D:\\snowpark'):\n",
    "    print(i)"
   ]
  },
  {
   "cell_type": "code",
   "execution_count": 59,
   "id": "c6f91a31",
   "metadata": {},
   "outputs": [],
   "source": [
    "FILE = os.path.join(r\"D:\\snowpark\",'inbound','sales_2023.csv')"
   ]
  },
  {
   "cell_type": "code",
   "execution_count": 60,
   "id": "149e07bd",
   "metadata": {},
   "outputs": [
    {
     "data": {
      "text/plain": [
       "<snowflake.connector.cursor.SnowflakeCursor at 0x1ed6637d280>"
      ]
     },
     "execution_count": 60,
     "metadata": {},
     "output_type": "execute_result"
    }
   ],
   "source": [
    "curs.execute(f\"PUT file://{FILE} @internal \")"
   ]
  },
  {
   "cell_type": "code",
   "execution_count": 65,
   "id": "b21f5218",
   "metadata": {},
   "outputs": [
    {
     "data": {
      "text/plain": [
       "<snowflake.connector.cursor.SnowflakeCursor at 0x1ed6637d280>"
      ]
     },
     "execution_count": 65,
     "metadata": {},
     "output_type": "execute_result"
    }
   ],
   "source": [
    "curs.execute(f'PUT file://D:\\snowpark\\inbound\\data_85.csv @internal AUTO_COMPRESS = FALSE OVERWRITE = TRUE')"
   ]
  },
  {
   "cell_type": "code",
   "execution_count": 63,
   "id": "0b30e1c3",
   "metadata": {},
   "outputs": [
    {
     "data": {
      "text/plain": [
       "'D:\\\\snowpark\\\\inbound\\\\sales_2023.csv'"
      ]
     },
     "execution_count": 63,
     "metadata": {},
     "output_type": "execute_result"
    }
   ],
   "source": [
    "FILE"
   ]
  },
  {
   "cell_type": "code",
   "execution_count": null,
   "id": "20863385",
   "metadata": {},
   "outputs": [],
   "source": [
    "FILE = FILE.replace('//','\\')"
   ]
  }
 ],
 "metadata": {
  "kernelspec": {
   "display_name": "Python 3 (ipykernel)",
   "language": "python",
   "name": "python3"
  },
  "language_info": {
   "codemirror_mode": {
    "name": "ipython",
    "version": 3
   },
   "file_extension": ".py",
   "mimetype": "text/x-python",
   "name": "python",
   "nbconvert_exporter": "python",
   "pygments_lexer": "ipython3",
   "version": "3.8.16"
  }
 },
 "nbformat": 4,
 "nbformat_minor": 5
}
